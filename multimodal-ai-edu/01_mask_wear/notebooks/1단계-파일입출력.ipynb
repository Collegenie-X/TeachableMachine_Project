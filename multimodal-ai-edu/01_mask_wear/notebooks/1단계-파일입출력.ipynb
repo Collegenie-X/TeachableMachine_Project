{
 "cells": [
  {
   "cell_type": "code",
   "execution_count": 4,
   "metadata": {},
   "outputs": [
    {
     "name": "stderr",
     "output_type": "stream",
     "text": [
      "/Users/jongphilkim/Documents/GitHub/TeachableMachine_Project/.venv/lib/python3.10/site-packages/keras/src/layers/core/dense.py:93: UserWarning: Do not pass an `input_shape`/`input_dim` argument to a layer. When using Sequential models, prefer using an `Input(shape)` object as the first layer in the model instead.\n",
      "  super().__init__(activity_regularizer=activity_regularizer, **kwargs)\n"
     ]
    }
   ],
   "source": [
    "import cv2\n",
    "import numpy as np\n",
    "import tensorflow as tf\n",
    "from tensorflow.keras.models import load_model\n",
    "from tensorflow.keras.layers import DepthwiseConv2D as _BaseDepthwise\n",
    "from PIL import Image, ImageOps\n",
    "import time\n",
    "\n",
    "# 1) custom DepthwiseConv2D 정의 (config에서 groups 키워드를 pop)\n",
    "class DepthwiseConv2D(_BaseDepthwise):\n",
    "    @classmethod\n",
    "    def from_config(cls, config):\n",
    "        config.pop('groups', None)\n",
    "        return super().from_config(config)\n",
    "\n",
    "# 2) custom_objects 에 등록해서 모델 로드\n",
    "model = load_model(\n",
    "    'keras_model.h5',\n",
    "    compile=False,\n",
    "    custom_objects={'DepthwiseConv2D': DepthwiseConv2D}\n",
    ")\n",
    "\n",
    "# 3) labels.txt 로드\n",
    "with open('labels.txt', 'r') as f:\n",
    "    labels = [line.strip() for line in f.readlines()]"
   ]
  },
  {
   "cell_type": "code",
   "execution_count": 7,
   "metadata": {},
   "outputs": [
    {
     "ename": "ModuleNotFoundError",
     "evalue": "No module named 'google.colab'",
     "output_type": "error",
     "traceback": [
      "\u001b[0;31m---------------------------------------------------------------------------\u001b[0m",
      "\u001b[0;31mModuleNotFoundError\u001b[0m                       Traceback (most recent call last)",
      "Cell \u001b[0;32mIn[7], line 1\u001b[0m\n\u001b[0;32m----> 1\u001b[0m \u001b[38;5;28;01mfrom\u001b[39;00m\u001b[38;5;250m \u001b[39m\u001b[38;5;21;01mgoogle\u001b[39;00m\u001b[38;5;21;01m.\u001b[39;00m\u001b[38;5;21;01mcolab\u001b[39;00m\u001b[38;5;250m \u001b[39m\u001b[38;5;28;01mimport\u001b[39;00m files\n\u001b[1;32m      2\u001b[0m \u001b[38;5;28;01mimport\u001b[39;00m\u001b[38;5;250m \u001b[39m\u001b[38;5;21;01mos\u001b[39;00m\n\u001b[1;32m      4\u001b[0m \u001b[38;5;66;03m# 모델 파일 업로드\u001b[39;00m\n",
      "\u001b[0;31mModuleNotFoundError\u001b[0m: No module named 'google.colab'"
     ]
    },
    {
     "ename": "",
     "evalue": "",
     "output_type": "error",
     "traceback": [
      "\u001b[1;31mThe Kernel crashed while executing code in the current cell or a previous cell. \n",
      "\u001b[1;31mPlease review the code in the cell(s) to identify a possible cause of the failure. \n",
      "\u001b[1;31mClick <a href='https://aka.ms/vscodeJupyterKernelCrash'>here</a> for more info. \n",
      "\u001b[1;31mView Jupyter <a href='command:jupyter.viewOutput'>log</a> for further details."
     ]
    }
   ],
   "source": [
    "from google.colab import files\n",
    "import os\n",
    "\n",
    "# 모델 파일 업로드\n",
    "print(\"keras_model.h5 파일을 업로드해주세요.\")\n",
    "uploaded = files.upload()\n",
    "model_path = next(iter(uploaded))\n",
    "\n",
    "# labels.txt 파일 업로드  \n",
    "print(\"\\nlabels.txt 파일을 업로드해주세요.\")\n",
    "uploaded = files.upload()\n",
    "labels_path = next(iter(uploaded))\n",
    "\n",
    "# 모델 로드\n",
    "model = load_model(\n",
    "    model_path,\n",
    "    compile=False, \n",
    "    custom_objects={'DepthwiseConv2D': DepthwiseConv2D}\n",
    ")\n",
    "\n",
    "# labels.txt 로드 및 출력\n",
    "with open(labels_path, 'r') as f:\n",
    "    labels = [line.strip() for line in f.readlines()]\n",
    "    \n",
    "print(\"\\n라벨 목록:\")\n",
    "for i, label in enumerate(labels):\n",
    "    print(f\"{i}: {label}\")"
   ]
  },
  {
   "cell_type": "code",
   "execution_count": 5,
   "metadata": {},
   "outputs": [],
   "source": [
    "# --- 이하 기존 코드 이어서 사용 ---\n",
    "def preprocess_frame(frame):\n",
    "    image = Image.fromarray(cv2.cvtColor(frame, cv2.COLOR_BGR2RGB))\n",
    "    image = ImageOps.fit(image, (224, 224), Image.Resampling.LANCZOS)\n",
    "    arr = np.asarray(image).astype(np.float32)\n",
    "    normalized = (arr / 127.5) - 1\n",
    "    return np.expand_dims(normalized, axis=0)\n",
    "\n",
    "def predict_mask_status(frame):\n",
    "    proc = preprocess_frame(frame)\n",
    "    preds = model.predict(proc, verbose=0)\n",
    "    idx = np.argmax(preds)\n",
    "    return labels[idx], float(preds[0][idx])\n"
   ]
  },
  {
   "cell_type": "markdown",
   "metadata": {},
   "source": []
  },
  {
   "cell_type": "code",
   "execution_count": 6,
   "metadata": {},
   "outputs": [],
   "source": [
    "cap = cv2.VideoCapture(0)\n",
    "no_mask_count = 0\n",
    "warning_threshold = 3\n",
    "\n",
    "while True:\n",
    "    ret, frame = cap.read()\n",
    "    if not ret:\n",
    "        break\n",
    "\n",
    "    label, conf = predict_mask_status(frame)\n",
    "    color = (0,255,0) if label=='mask' else (0,0,255)\n",
    "\n",
    "    cv2.putText(frame, f\"{label}:{conf:.2f}\", (10,30),\n",
    "                cv2.FONT_HERSHEY_SIMPLEX, 1, color, 2)\n",
    "\n",
    "    if label=='no_mask':\n",
    "        no_mask_count += 1\n",
    "        msg = (f\"경고: 마스크 착용! ({no_mask_count}/{warning_threshold})\"\n",
    "               if no_mask_count < warning_threshold\n",
    "               else \"상습 위반자입니다. 고발 조치 예정!\")\n",
    "        cv2.putText(frame, msg, (10,60),\n",
    "                    cv2.FONT_HERSHEY_SIMPLEX, 0.8, (0,0,255), 2)\n",
    "    else:\n",
    "        no_mask_count = 0\n",
    "\n",
    "    cv2.imshow('Mask Detection', frame)\n",
    "    if cv2.waitKey(1)&0xFF==ord('q'):\n",
    "        break\n",
    "\n",
    "cap.release()\n",
    "cv2.destroyAllWindows()"
   ]
  },
  {
   "cell_type": "code",
   "execution_count": null,
   "metadata": {},
   "outputs": [],
   "source": []
  }
 ],
 "metadata": {
  "kernelspec": {
   "display_name": ".venv",
   "language": "python",
   "name": "python3"
  },
  "language_info": {
   "codemirror_mode": {
    "name": "ipython",
    "version": 3
   },
   "file_extension": ".py",
   "mimetype": "text/x-python",
   "name": "python",
   "nbconvert_exporter": "python",
   "pygments_lexer": "ipython3",
   "version": "3.10.17"
  }
 },
 "nbformat": 4,
 "nbformat_minor": 2
}
